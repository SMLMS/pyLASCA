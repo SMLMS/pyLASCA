{
 "cells": [
  {
   "cell_type": "markdown",
   "metadata": {},
   "source": [
    "# PyLASCA\n",
    "a tool for ...\n",
    "\n",
    "## square detector\n",
    "detect landmarks on a real color image for future coordinate transformation \n",
    "\n",
    "by\n",
    "\n",
    "Sebastian Malkusch\n",
    "\n",
    "2020-04-15\n",
    "\n",
    "Institute for clinical pharmacology,\n",
    "\n",
    "data science division,\n",
    "\n",
    "Goethe-University Frankfurt,\n",
    "\n",
    "Germany\n",
    "\n",
    "malkusch@med.uni-frankfurt.de\n",
    "\n",
    "www.smb.uni-frankfurt.de\n",
    "\n",
    "http://share.smb.uni-frankfurt.de"
   ]
  },
  {
   "cell_type": "markdown",
   "metadata": {},
   "source": [
    "## Load libraries"
   ]
  },
  {
   "cell_type": "code",
   "execution_count": 1,
   "metadata": {},
   "outputs": [
    {
     "name": "stdout",
     "output_type": "stream",
     "text": [
      "PyLascaWidgets initialized\n"
     ]
    }
   ],
   "source": [
    "import cv2 as cv\n",
    "import numpy as np\n",
    "from ipywidgets import interact\n",
    "from pyLASCA.gui import squareWidgets\n",
    "from pyLASCA.source import fileNames\n",
    "from pyLASCA.source import squareDetector\n",
    "from pyLASCA.source import sigmaDetector\n",
    "widgets = squareWidgets.SquareWidgets()\n",
    "fn = fileNames.FileNames()\n",
    "vertex = squareDetector.SquareDetector()\n",
    "sigma = sigmaDetector.SigmaDetector()"
   ]
  },
  {
   "cell_type": "markdown",
   "metadata": {},
   "source": [
    "## Import\n",
    "Load an rgb real color image on which landmarks are to be detected."
   ]
  },
  {
   "cell_type": "code",
   "execution_count": 2,
   "metadata": {},
   "outputs": [
    {
     "data": {
      "application/vnd.jupyter.widget-view+json": {
       "model_id": "0c104699bff1423e8747e5910455f94d",
       "version_major": 2,
       "version_minor": 0
      },
      "text/plain": [
       "Text(value='', description='path to file', placeholder='enter a string', style=DescriptionStyle(description_wi…"
      ]
     },
     "metadata": {},
     "output_type": "display_data"
    },
    {
     "data": {
      "application/vnd.jupyter.widget-view+json": {
       "model_id": "3c92e6569a6a4fb7bf3d22738f941b6f",
       "version_major": 2,
       "version_minor": 0
      },
      "text/plain": [
       "Button(description='browse', icon='check', style=ButtonStyle(), tooltip='Click me')"
      ]
     },
     "metadata": {},
     "output_type": "display_data"
    }
   ],
   "source": [
    "display(widgets.pathText, widgets.pathButton)"
   ]
  },
  {
   "cell_type": "code",
   "execution_count": 3,
   "metadata": {},
   "outputs": [
    {
     "data": {
      "application/vnd.jupyter.widget-view+json": {
       "model_id": "7e678defe8d5419a9d924611b756b516",
       "version_major": 2,
       "version_minor": 0
      },
      "text/plain": [
       "Button(description='import', icon='check', style=ButtonStyle(), tooltip='Click me')"
      ]
     },
     "metadata": {},
     "output_type": "display_data"
    }
   ],
   "source": [
    "display(widgets.importButton)\n",
    "\n",
    "def runImport(event):\n",
    "    widgets.clearOutput()\n",
    "    display(widgets.importButton)\n",
    "    if(widgets.fileName):\n",
    "        fn.fileName = widgets.fileName\n",
    "        fn.splitFileName()\n",
    "        vertex.loadImage(fn.fileName)\n",
    "        sigma.updateSeed()\n",
    "        sigma.loadImage(fn.fileName)\n",
    "        vertex.drawImage()\n",
    "        print(fn.fileName)\n",
    "    \n",
    "widgets.importButton.on_click(runImport)"
   ]
  },
  {
   "cell_type": "markdown",
   "metadata": {},
   "source": [
    "## Sigma Detection"
   ]
  },
  {
   "cell_type": "code",
   "execution_count": 4,
   "metadata": {},
   "outputs": [
    {
     "data": {
      "application/vnd.jupyter.widget-view+json": {
       "model_id": "18702ca1e7bd4bf5a47ef4fa4bd44185",
       "version_major": 2,
       "version_minor": 0
      },
      "text/plain": [
       "Button(description='analysis', icon='check', style=ButtonStyle(), tooltip='Click me')"
      ]
     },
     "metadata": {},
     "output_type": "display_data"
    }
   ],
   "source": [
    "display(widgets.sigmaAnalysisButton)\n",
    "\n",
    "def runSigmaAnalysis(event):\n",
    "    widgets.clearOutput()\n",
    "    display(widgets.sigmaAnalysisButton)\n",
    "    if widgets.fileName:\n",
    "        sigma.gui()\n",
    "        widgets.sigmaText.value = sigma.sigma\n",
    "        print(\"User defined sigme: %.1f\" %(sigma.sigma))\n",
    "        \n",
    "        \n",
    "\n",
    "widgets.sigmaAnalysisButton.on_click(runSigmaAnalysis)"
   ]
  },
  {
   "cell_type": "markdown",
   "metadata": {},
   "source": [
    "## Vertex Analysis"
   ]
  },
  {
   "cell_type": "code",
   "execution_count": 5,
   "metadata": {},
   "outputs": [
    {
     "data": {
      "application/vnd.jupyter.widget-view+json": {
       "model_id": "f8db5820ce9f442c8e8484dc49b32eb0",
       "version_major": 2,
       "version_minor": 0
      },
      "text/plain": [
       "BoundedFloatText(value=120.0, description='pxl size [mm]', max=200.0, step=0.1, style=DescriptionStyle(descrip…"
      ]
     },
     "metadata": {},
     "output_type": "display_data"
    },
    {
     "data": {
      "application/vnd.jupyter.widget-view+json": {
       "model_id": "a8a32961a8e14cc29f019766347d9c73",
       "version_major": 2,
       "version_minor": 0
      },
      "text/plain": [
       "BoundedFloatText(value=5.0, description='sigma', max=20.0, min=0.1, step=0.1, style=DescriptionStyle(descripti…"
      ]
     },
     "metadata": {},
     "output_type": "display_data"
    },
    {
     "data": {
      "application/vnd.jupyter.widget-view+json": {
       "model_id": "8f527399010a467e9443154f3184628f",
       "version_major": 2,
       "version_minor": 0
      },
      "text/plain": [
       "FloatSlider(value=5.0, continuous_update=False, description='sigma', max=20.0, min=0.1, readout_format='.3f', …"
      ]
     },
     "metadata": {},
     "output_type": "display_data"
    },
    {
     "data": {
      "application/vnd.jupyter.widget-view+json": {
       "model_id": "e634517a74b5489385aaab120d2cfbd2",
       "version_major": 2,
       "version_minor": 0
      },
      "text/plain": [
       "Button(description='analysis', icon='check', style=ButtonStyle(), tooltip='Click me')"
      ]
     },
     "metadata": {},
     "output_type": "display_data"
    }
   ],
   "source": [
    "display(widgets.pxlSizeText, widgets.sigmaText, widgets.sigmaSlider, widgets.vertrexAnalysisButton)\n",
    "\n",
    "def runAnalysis(event):\n",
    "    widgets.clearOutput()\n",
    "    display(widgets.pxlSizeText, widgets.sigmaText, widgets.sigmaSlider, widgets.vertrexAnalysisButton)\n",
    "    if widgets.fileName:\n",
    "        \n",
    "        vertex.pxlSize = widgets.pxlSizeText.value\n",
    "        vertex.sigma = widgets.sigmaText.value\n",
    "        vertex.analyzeImage()\n",
    "        vertex.detectVertexes()\n",
    "        widgets.vertexSelector.options = vertex.vertexArray()\n",
    "        widgets.vertexSelector.value = -1\n",
    "        vertex.drawLines()\n",
    "\n",
    "widgets.vertrexAnalysisButton.on_click(runAnalysis)"
   ]
  },
  {
   "cell_type": "markdown",
   "metadata": {},
   "source": [
    "## Refinement"
   ]
  },
  {
   "cell_type": "code",
   "execution_count": 6,
   "metadata": {},
   "outputs": [
    {
     "data": {
      "application/vnd.jupyter.widget-view+json": {
       "model_id": "ab07c25e4cd74efc818c7a845e3c8540",
       "version_major": 2,
       "version_minor": 0
      },
      "text/plain": [
       "interactive(children=(Select(description='Select', options=(-1,), rows=1, value=-1), Output()), _dom_classes=(…"
      ]
     },
     "metadata": {},
     "output_type": "display_data"
    }
   ],
   "source": [
    "def updateImage(x):\n",
    "    if widgets.fileName:\n",
    "        vertex.drawVertexes(index = x)\n",
    "        \n",
    "\n",
    "interact(updateImage, x=widgets.vertexSelector);"
   ]
  },
  {
   "cell_type": "code",
   "execution_count": 7,
   "metadata": {},
   "outputs": [
    {
     "data": {
      "application/vnd.jupyter.widget-view+json": {
       "model_id": "16d923fa8e2a45129a10886376ae856d",
       "version_major": 2,
       "version_minor": 0
      },
      "text/plain": [
       "Button(description='delete', icon='check', style=ButtonStyle(), tooltip='Click me')"
      ]
     },
     "metadata": {},
     "output_type": "display_data"
    }
   ],
   "source": [
    "display(widgets.deleteButton)\n",
    "\n",
    "def deleteLine(event):\n",
    "    widgets.clearOutput()\n",
    "    display(widgets.deleteButton)\n",
    "    if (widgets.vertexSelector.value != -1):\n",
    "        vertex.deleteVertex(index = widgets.vertexSelector.value)\n",
    "        widgets.vertexSelector.options = vertex.vertexArray()\n",
    "        widgets.vertexSelector.value = -1\n",
    "    if(np.shape(vertex.vertexes)[0] == 4):\n",
    "        vertex.detectLandmarks()\n",
    "        display(vertex.landmarks)\n",
    "\n",
    "widgets.deleteButton.on_click(deleteLine)"
   ]
  },
  {
   "cell_type": "markdown",
   "metadata": {},
   "source": [
    "## Save results"
   ]
  },
  {
   "cell_type": "code",
   "execution_count": 8,
   "metadata": {},
   "outputs": [
    {
     "data": {
      "application/vnd.jupyter.widget-view+json": {
       "model_id": "02929915197d49b7b96f407e4ae2c499",
       "version_major": 2,
       "version_minor": 0
      },
      "text/plain": [
       "Button(description='save', icon='check', style=ButtonStyle(), tooltip='Click me')"
      ]
     },
     "metadata": {},
     "output_type": "display_data"
    }
   ],
   "source": [
    "display(widgets.saveButton)\n",
    "\n",
    "def saveLandmarks(event):\n",
    "    widgets.clearOutput()\n",
    "    display(widgets.saveButton)\n",
    "    if (len(vertex.vertexes) == 4):\n",
    "        fn.updateDateString()\n",
    "        fn.supplementalInformation = str(\"Landmarks_sig_%.1f\" %(vertex.sigma))\n",
    "        fn.suffix = \"csv\"\n",
    "        fn.mergeFileName()\n",
    "        vertex.saveLandmarks(fileName = fn.outFileName)\n",
    "    else:\n",
    "        print(\"Wrong number of landmarks. Was %i, need to be 4.\" %(len(vertex.vertexes)))\n",
    "\n",
    "widgets.saveButton.on_click(saveLandmarks)"
   ]
  }
 ],
 "metadata": {
  "kernelspec": {
   "display_name": "Python 3",
   "language": "python",
   "name": "python3"
  },
  "language_info": {
   "codemirror_mode": {
    "name": "ipython",
    "version": 3
   },
   "file_extension": ".py",
   "mimetype": "text/x-python",
   "name": "python",
   "nbconvert_exporter": "python",
   "pygments_lexer": "ipython3",
   "version": "3.7.7"
  }
 },
 "nbformat": 4,
 "nbformat_minor": 4
}
