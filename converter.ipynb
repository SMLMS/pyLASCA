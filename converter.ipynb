{
 "cells": [
  {
   "cell_type": "markdown",
   "metadata": {
    "hideCode": false,
    "hidePrompt": false
   },
   "source": [
    "# Converter\n",
    "## pyLASCA\n",
    "\n",
    "(c) Sebastian Malkusch 2019"
   ]
  },
  {
   "cell_type": "code",
   "execution_count": 1,
   "metadata": {
    "hideCode": false,
    "hidePrompt": false,
    "scrolled": true
   },
   "outputs": [],
   "source": [
    "import numpy as np\n",
    "from pyLASCA.fileNames import FileNames\n",
    "from pyLASCA.textDocument import TextDocument\n",
    "from pyLASCA.imageProcessor import ImageProcessor\n",
    "fileNames = FileNames()\n",
    "textDocument = TextDocument()\n",
    "imageProcessor = ImageProcessor()"
   ]
  },
  {
   "cell_type": "markdown",
   "metadata": {
    "hideCode": false,
    "hidePrompt": false
   },
   "source": [
    "## Load Text File\n",
    "needs to be event driven"
   ]
  },
  {
   "cell_type": "code",
   "execution_count": 2,
   "metadata": {
    "hideCode": false,
    "hidePrompt": false
   },
   "outputs": [
    {
     "name": "stdout",
     "output_type": "stream",
     "text": [
      "TextDocument\n",
      "fileName: /home/malkusch/PowerFolders/pharmacology/Daten/ristow/test.txt\n",
      "x: 752\n",
      "y: 580\n",
      "frames: 3\n",
      "\n"
     ]
    }
   ],
   "source": [
    "fileNames.fileName = \"/home/malkusch/PowerFolders/pharmacology/Daten/ristow/test.txt\"\n",
    "fileNames.splitFileName()\n",
    "textDocument.fileName = fileNames.fileName\n",
    "textDocument.readTextDocument()\n",
    "print(textDocument)"
   ]
  },
  {
   "cell_type": "markdown",
   "metadata": {
    "hideCode": false,
    "hidePrompt": false
   },
   "source": [
    "## Convert to Image\n",
    "needs to be event driven"
   ]
  },
  {
   "cell_type": "code",
   "execution_count": 3,
   "metadata": {
    "hideCode": false,
    "hidePrompt": false
   },
   "outputs": [
    {
     "name": "stdout",
     "output_type": "stream",
     "text": [
      "255.0\n"
     ]
    }
   ],
   "source": [
    "n=1\n",
    "fileNames.supplementalInformation = str(\"frame-%i\" %(n+1))\n",
    "fileNames.updateDateString()\n",
    "fileNames.mergeFileName()\n",
    "fileNames.splitFileName()\n",
    "imageProcessor.baseName = fileNames.baseName\n",
    "imageProcessor.folderName = fileNames.folderName\n",
    "imageProcessor.rawImage = textDocument.data[:,:,n]\n",
    "print(np.amax(textDocument.data[:,:,n]))\n",
    "imageProcessor.writeRawImage()"
   ]
  }
 ],
 "metadata": {
  "hide_code_all_hidden": false,
  "kernelspec": {
   "display_name": "Python 3",
   "language": "python",
   "name": "python3"
  },
  "language_info": {
   "codemirror_mode": {
    "name": "ipython",
    "version": 3
   },
   "file_extension": ".py",
   "mimetype": "text/x-python",
   "name": "python",
   "nbconvert_exporter": "python",
   "pygments_lexer": "ipython3",
   "version": "3.7.5"
  }
 },
 "nbformat": 4,
 "nbformat_minor": 2
}
