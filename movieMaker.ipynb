{
 "cells": [
  {
   "cell_type": "markdown",
   "metadata": {
    "hideCode": false,
    "hidePrompt": false
   },
   "source": [
    "# Movie Maker\n",
    "## pyLASCA\n",
    "\n",
    "(c) Sebastian Malkusch 2019"
   ]
  },
  {
   "cell_type": "code",
   "execution_count": 1,
   "metadata": {
    "hideCode": false,
    "hidePrompt": false,
    "scrolled": true
   },
   "outputs": [],
   "source": [
    "import numpy as np\n",
    "import matplotlib.pyplot as plt\n",
    "from pyLASCA.fileNames import FileNames\n",
    "from pyLASCA.imageProcessor import ImageProcessor\n",
    "fileNames = FileNames()\n",
    "imageProcessor = ImageProcessor()"
   ]
  },
  {
   "cell_type": "markdown",
   "metadata": {
    "hideCode": false,
    "hidePrompt": false
   },
   "source": [
    "## Load Image\n",
    "needs to be event driven"
   ]
  },
  {
   "cell_type": "code",
   "execution_count": 2,
   "metadata": {
    "hideCode": false,
    "hidePrompt": false
   },
   "outputs": [],
   "source": [
    "fileNames.fileName = \"/home/malkusch/PowerFolders/pharmacology/Daten/ristow/test_frame-2_191212_raw.tiff\"\n",
    "fileNames.splitFileName()\n",
    "imageProcessor.folderName = fileNames.folderName\n",
    "imageProcessor.baseName = fileNames.baseName\n",
    "imageProcessor.loadImage(fileNames.fileName)"
   ]
  },
  {
   "cell_type": "markdown",
   "metadata": {
    "hideCode": false,
    "hidePrompt": false
   },
   "source": [
    "## Create Movie\n",
    "needs to be event driven"
   ]
  },
  {
   "cell_type": "code",
   "execution_count": 3,
   "metadata": {
    "hideCode": false,
    "hidePrompt": false
   },
   "outputs": [],
   "source": [
    "thresholds = np.arange(10,200,10)\n",
    "for thr in thresholds:\n",
    "    imageProcessor.thr = int(thr)\n",
    "    imageProcessor.detectContours()\n",
    "    imageProcessor.calcConvexHull()\n",
    "    imageProcessor.writeHullImage()"
   ]
  }
 ],
 "metadata": {
  "hide_code_all_hidden": false,
  "kernelspec": {
   "display_name": "Python 3",
   "language": "python",
   "name": "python3"
  },
  "language_info": {
   "codemirror_mode": {
    "name": "ipython",
    "version": 3
   },
   "file_extension": ".py",
   "mimetype": "text/x-python",
   "name": "python",
   "nbconvert_exporter": "python",
   "pygments_lexer": "ipython3",
   "version": "3.7.5"
  }
 },
 "nbformat": 4,
 "nbformat_minor": 2
}
