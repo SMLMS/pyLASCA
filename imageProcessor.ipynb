{
 "cells": [
  {
   "cell_type": "markdown",
   "metadata": {
    "hideCode": false,
    "hidePrompt": false
   },
   "source": [
    "# Image Processor\n",
    "## pyLASCA\n",
    "\n",
    "(c) Sebastian Malkusch 2019"
   ]
  },
  {
   "cell_type": "code",
   "execution_count": 1,
   "metadata": {
    "hideCode": false,
    "hidePrompt": false,
    "scrolled": true
   },
   "outputs": [],
   "source": [
    "import pandas as pd\n",
    "import numpy as np\n",
    "import matplotlib.pyplot as plt\n",
    "from pyLASCA.fileNames import FileNames\n",
    "from pyLASCA.imageProcessor import ImageProcessor\n",
    "fileNames = FileNames()\n",
    "imageProcessor = ImageProcessor()"
   ]
  },
  {
   "cell_type": "markdown",
   "metadata": {
    "hideCode": false,
    "hidePrompt": false
   },
   "source": [
    "## Load Image\n",
    "needs to be event driven"
   ]
  },
  {
   "cell_type": "code",
   "execution_count": 2,
   "metadata": {
    "hideCode": false,
    "hidePrompt": false
   },
   "outputs": [],
   "source": [
    "fileNames.fileName = \"/home/malkusch/PowerFolders/pharmacology/Daten/ristow/test_frame-2_191212_raw.tiff\"\n",
    "imageProcessor.loadImage(fileNames.fileName)"
   ]
  },
  {
   "cell_type": "markdown",
   "metadata": {
    "hideCode": false,
    "hidePrompt": false
   },
   "source": [
    "## Analyze Image\n",
    "needs to be event driven"
   ]
  },
  {
   "cell_type": "code",
   "execution_count": 9,
   "metadata": {},
   "outputs": [
    {
     "data": {
      "image/png": "[encoded data removed]",
      "text/plain": [
       "<Figure size 432x288 with 1 Axes>"
      ]
     },
     "metadata": {
      "needs_background": "light"
     },
     "output_type": "display_data"
    }
   ],
   "source": [
    "hist,bins = np.histogram(imageProcessor.rawImage,256,[0,256])\n",
    "plt.bar(bins[2:], hist[1:])\n",
    "plt.show()"
   ]
  },
  {
   "cell_type": "markdown",
   "metadata": {},
   "source": [
    "## Feature Calculation\n",
    "needs to be event driven"
   ]
  },
  {
   "cell_type": "code",
   "execution_count": 4,
   "metadata": {
    "hideCode": false,
    "hidePrompt": false
   },
   "outputs": [
    {
     "data": {
      "text/html": [
       "<div>\n",
       "<style scoped>\n",
       "    .dataframe tbody tr th:only-of-type {\n",
       "        vertical-align: middle;\n",
       "    }\n",
       "\n",
       "    .dataframe tbody tr th {\n",
       "        vertical-align: top;\n",
       "    }\n",
       "\n",
       "    .dataframe thead th {\n",
       "        text-align: right;\n",
       "    }\n",
       "</style>\n",
       "<table border=\"1\" class=\"dataframe\">\n",
       "  <thead>\n",
       "    <tr style=\"text-align: right;\">\n",
       "      <th></th>\n",
       "      <th>thr</th>\n",
       "      <th>area</th>\n",
       "      <th>radius</th>\n",
       "      <th>perimeter</th>\n",
       "      <th>cntArea</th>\n",
       "      <th>cntRadius</th>\n",
       "      <th>cntPerimeter</th>\n",
       "      <th>cntCircularity</th>\n",
       "      <th>cntIntensity</th>\n",
       "      <th>cntIntDen</th>\n",
       "      <th>hllArea</th>\n",
       "      <th>hllRadius</th>\n",
       "      <th>hllPerimeter</th>\n",
       "      <th>hllCircularity</th>\n",
       "      <th>hllIntensity</th>\n",
       "      <th>hllIntDen</th>\n",
       "      <th>solidity</th>\n",
       "      <th>contours</th>\n",
       "    </tr>\n",
       "  </thead>\n",
       "  <tbody>\n",
       "    <tr>\n",
       "      <th>0</th>\n",
       "      <td>1</td>\n",
       "      <td>218729.0</td>\n",
       "      <td>263.862849</td>\n",
       "      <td>2158.416301</td>\n",
       "      <td>218685.0</td>\n",
       "      <td>263.836308</td>\n",
       "      <td>2133.102593</td>\n",
       "      <td>0.777146</td>\n",
       "      <td>17369187</td>\n",
       "      <td>79.425598</td>\n",
       "      <td>226014.5</td>\n",
       "      <td>268.221270</td>\n",
       "      <td>2076.716329</td>\n",
       "      <td>0.811514</td>\n",
       "      <td>17369187</td>\n",
       "      <td>76.849879</td>\n",
       "      <td>0.967571</td>\n",
       "      <td>2</td>\n",
       "    </tr>\n",
       "    <tr>\n",
       "      <th>1</th>\n",
       "      <td>2</td>\n",
       "      <td>218069.5</td>\n",
       "      <td>263.464756</td>\n",
       "      <td>2157.144223</td>\n",
       "      <td>218035.5</td>\n",
       "      <td>263.444216</td>\n",
       "      <td>2135.830515</td>\n",
       "      <td>0.775000</td>\n",
       "      <td>17369187</td>\n",
       "      <td>79.662197</td>\n",
       "      <td>225305.0</td>\n",
       "      <td>267.799942</td>\n",
       "      <td>2075.449042</td>\n",
       "      <td>0.810734</td>\n",
       "      <td>17369187</td>\n",
       "      <td>77.091884</td>\n",
       "      <td>0.967735</td>\n",
       "      <td>2</td>\n",
       "    </tr>\n",
       "    <tr>\n",
       "      <th>2</th>\n",
       "      <td>3</td>\n",
       "      <td>217577.0</td>\n",
       "      <td>263.167076</td>\n",
       "      <td>2154.073156</td>\n",
       "      <td>217547.0</td>\n",
       "      <td>263.148933</td>\n",
       "      <td>2132.759447</td>\n",
       "      <td>0.775246</td>\n",
       "      <td>17369187</td>\n",
       "      <td>79.841078</td>\n",
       "      <td>225042.0</td>\n",
       "      <td>267.643594</td>\n",
       "      <td>2074.467110</td>\n",
       "      <td>0.810644</td>\n",
       "      <td>17369187</td>\n",
       "      <td>77.181979</td>\n",
       "      <td>0.966695</td>\n",
       "      <td>2</td>\n",
       "    </tr>\n",
       "    <tr>\n",
       "      <th>3</th>\n",
       "      <td>4</td>\n",
       "      <td>217165.5</td>\n",
       "      <td>262.918097</td>\n",
       "      <td>2152.658942</td>\n",
       "      <td>217141.5</td>\n",
       "      <td>262.903568</td>\n",
       "      <td>2133.002088</td>\n",
       "      <td>0.774435</td>\n",
       "      <td>17369187</td>\n",
       "      <td>79.990177</td>\n",
       "      <td>224829.5</td>\n",
       "      <td>267.517200</td>\n",
       "      <td>2073.689359</td>\n",
       "      <td>0.810565</td>\n",
       "      <td>17369187</td>\n",
       "      <td>77.254929</td>\n",
       "      <td>0.965805</td>\n",
       "      <td>2</td>\n",
       "    </tr>\n",
       "    <tr>\n",
       "      <th>4</th>\n",
       "      <td>5</td>\n",
       "      <td>216821.0</td>\n",
       "      <td>262.709474</td>\n",
       "      <td>2152.215291</td>\n",
       "      <td>216799.0</td>\n",
       "      <td>262.696146</td>\n",
       "      <td>2134.901583</td>\n",
       "      <td>0.773136</td>\n",
       "      <td>17369187</td>\n",
       "      <td>80.116546</td>\n",
       "      <td>224647.5</td>\n",
       "      <td>267.408901</td>\n",
       "      <td>2072.625370</td>\n",
       "      <td>0.810653</td>\n",
       "      <td>17369187</td>\n",
       "      <td>77.317517</td>\n",
       "      <td>0.965063</td>\n",
       "      <td>2</td>\n",
       "    </tr>\n",
       "  </tbody>\n",
       "</table>\n",
       "</div>"
      ],
      "text/plain": [
       "   thr      area      radius    perimeter   cntArea   cntRadius  cntPerimeter  \\\n",
       "0    1  218729.0  263.862849  2158.416301  218685.0  263.836308   2133.102593   \n",
       "1    2  218069.5  263.464756  2157.144223  218035.5  263.444216   2135.830515   \n",
       "2    3  217577.0  263.167076  2154.073156  217547.0  263.148933   2132.759447   \n",
       "3    4  217165.5  262.918097  2152.658942  217141.5  262.903568   2133.002088   \n",
       "4    5  216821.0  262.709474  2152.215291  216799.0  262.696146   2134.901583   \n",
       "\n",
       "   cntCircularity  cntIntensity  cntIntDen   hllArea   hllRadius  \\\n",
       "0        0.777146      17369187  79.425598  226014.5  268.221270   \n",
       "1        0.775000      17369187  79.662197  225305.0  267.799942   \n",
       "2        0.775246      17369187  79.841078  225042.0  267.643594   \n",
       "3        0.774435      17369187  79.990177  224829.5  267.517200   \n",
       "4        0.773136      17369187  80.116546  224647.5  267.408901   \n",
       "\n",
       "   hllPerimeter  hllCircularity  hllIntensity  hllIntDen  solidity  contours  \n",
       "0   2076.716329        0.811514      17369187  76.849879  0.967571         2  \n",
       "1   2075.449042        0.810734      17369187  77.091884  0.967735         2  \n",
       "2   2074.467110        0.810644      17369187  77.181979  0.966695         2  \n",
       "3   2073.689359        0.810565      17369187  77.254929  0.965805         2  \n",
       "4   2072.625370        0.810653      17369187  77.317517  0.965063         2  "
      ]
     },
     "execution_count": 4,
     "metadata": {},
     "output_type": "execute_result"
    }
   ],
   "source": [
    "imageProcessor.folderName = fileNames.folderName\n",
    "imageProcessor.baseName = fileNames.baseName\n",
    "df = imageProcessor.dataFrame()\n",
    "df.head()"
   ]
  },
  {
   "cell_type": "markdown",
   "metadata": {},
   "source": [
    "## Save Dataframe\n",
    "needs to be event driven"
   ]
  },
  {
   "cell_type": "code",
   "execution_count": 5,
   "metadata": {},
   "outputs": [],
   "source": [
    "df.to_csv (\"/home/malkusch/PowerFolders/pharmacology/Daten/ristow/dataframe.csv\", index = None, header = True)"
   ]
  }
 ],
 "metadata": {
  "hide_code_all_hidden": false,
  "kernelspec": {
   "display_name": "Python 3",
   "language": "python",
   "name": "python3"
  },
  "language_info": {
   "codemirror_mode": {
    "name": "ipython",
    "version": 3
   },
   "file_extension": ".py",
   "mimetype": "text/x-python",
   "name": "python",
   "nbconvert_exporter": "python",
   "pygments_lexer": "ipython3",
   "version": "3.7.7"
  }
 },
 "nbformat": 4,
 "nbformat_minor": 2
}
